{
 "cells": [
  {
   "cell_type": "markdown",
   "metadata": {},
   "source": [
    "# Assignment 2: Inverse kinematics of our leg\n",
    "\n",
    "Use this noteboook to document interacting with the robot class. The primary goal for this assignment is a video recording and plot rendering of your robot leg commanded to move along an *interesting* path (see the bat sign I chose in the readme page). \n",
    "\n",
    "__Deliverables__\n",
    "1. Your leg.py file in the robot python module we are creating. The template provided has blank functions which need to be completed.\n",
    "2. Two videos, a video of your robot tracing out your commanded trajectory (uploaded to youtube), and a gif of robot commanded trajectory (like on the readme page).\n",
    "3. This notebook which you will use to send the move commands for the trajectory.\n",
    "\n",
    "\n",
    "Team #:8\n",
    "\n",
    "Names:Yushen Bai, Amartya B. "
   ]
  },
  {
   "cell_type": "markdown",
   "metadata": {},
   "source": [
    "# Getting started"
   ]
  },
  {
   "cell_type": "code",
   "execution_count": 1,
   "metadata": {},
   "outputs": [],
   "source": [
    "# Import the robot class we are developing\n",
    "import robot"
   ]
  },
  {
   "cell_type": "code",
   "execution_count": 2,
   "metadata": {},
   "outputs": [
    {
     "name": "stdout",
     "output_type": "stream",
     "text": [
      "Connected!\n"
     ]
    }
   ],
   "source": [
    "# Make a new leg variable which is a robot.Leg class\n",
    "leg = robot.Leg()"
   ]
  },
  {
   "cell_type": "code",
   "execution_count": 3,
   "metadata": {},
   "outputs": [
    {
     "data": {
      "text/plain": [
       "(0.500189924598089*pi, 0.500175603810931*pi)"
      ]
     },
     "execution_count": 3,
     "metadata": {},
     "output_type": "execute_result"
    }
   ],
   "source": [
    "leg.get_joint_pos()\n",
    "\n",
    "#print('joint0: %f \\t joint1: %f' % (leg.joint_0_pos, leg.joint_1_pos))"
   ]
  },
  {
   "cell_type": "markdown",
   "metadata": {},
   "source": [
    "# Your code below!"
   ]
  },
  {
   "cell_type": "code",
   "execution_count": 4,
   "metadata": {},
   "outputs": [],
   "source": [
    "leg.set_home()"
   ]
  },
  {
   "cell_type": "code",
   "execution_count": 6,
   "metadata": {},
   "outputs": [],
   "source": [
    "tt =26\n",
    "xx = [-0.0712589073634220,\n",
    "0.712589073634204,\n",
    "1.31828978622328,\n",
    "1.78147268408551,\n",
    "2.45843230403800,\n",
    "3.09976247030879,\n",
    "3.95486935866983,\n",
    "4.27553444180523,\n",
    "4.27553444180523,\n",
    "4.06175771971496,\n",
    "3.66983372921615,\n",
    "3.59857482185273,\n",
    "3.27790973871734,\n",
    "2.42280285035629,\n",
    "1.60332541567696,\n",
    "0.748218527315915,\n",
    "-0.926365795724468,\n",
    "-2.20902612826604,\n",
    "-2.42280285035630,\n",
    "-2.63657957244656,\n",
    "-2.85035629453682,\n",
    "-2.67220902612827,\n",
    "-1.71021377672209,\n",
    "-1.38954869358670,\n",
    "-0.676959619952497,\n",
    "-0.0712589073634220,\n",
    "\n",
    "\n",
    "]\n",
    "\n",
    "yy = [19.1270783847981,\n",
    "19.0201900237530,\n",
    "18.7351543942993,\n",
    "18.4501187648456,\n",
    "17.8800475059382,\n",
    "18.3076009501188,\n",
    "18.9845605700713,\n",
    "17.6306413301663,\n",
    "16.5617577197150,\n",
    "15.9916864608076,\n",
    "15.9916864608076,\n",
    "16.1342042755344,\n",
    "16.5973871733967,\n",
    "17.0249406175772,\n",
    "17.0249406175772,\n",
    "16.1342042755344,\n",
    "16.1342042755344,\n",
    "16.2054631828979,\n",
    "16.5617577197150,\n",
    "17.2743467933492,\n",
    "18.3788598574822,\n",
    "18.7351543942993,\n",
    "19.0914489311164,\n",
    "19.0914489311164,\n",
    "19.0914489311164,\n",
    "19.1270783847981,\n",
    "\n",
    "\n",
    "]\n",
    "\n",
    "(sim_theta0,sim_theta1,sim_alpha0,sim_alpha1)=leg.move_t(tt,xx,yy)"
   ]
  },
  {
   "cell_type": "code",
   "execution_count": 8,
   "metadata": {},
   "outputs": [],
   "source": [
    "# Define a draw function\n",
    "import matplotlib.pyplot as plt\n",
    "from sympy import sin, cos\n",
    "import numpy as np\n",
    "\n",
    "\n",
    "def sim_draw_leg(l0, l1, l2, theta2, theta1, alpha2, alpha1, ax=False):\n",
    "    \"\"\"\n",
    "    This function takes in the four angles of the leg and draws\n",
    "    the configuration\n",
    "    \"\"\"\n",
    "\n",
    "    link1, link2, width = l1, l2, l0\n",
    "    cor_range = l1 + l2\n",
    "    \n",
    "    if ax == False:\n",
    "        ax = plt.gca()\n",
    "        ax.cla()\n",
    "\n",
    "    ax.plot(-width / 2, 0, 'ok')\n",
    "    ax.plot(width / 2, 0, 'ok')\n",
    "\n",
    "    ax.plot([-width / 2, 0], [0, 0], 'k')\n",
    "    ax.plot([width / 2, 0], [0, 0], 'k')\n",
    "\n",
    "    ax.plot(-width / 2 + np.array([0, link1 * cos(theta1)]), [0, link1 * sin(theta1)], 'k')\n",
    "    ax.plot(width / 2 + np.array([0, link1 * cos(theta2)]), [0, link1 * sin(theta2)], 'k')\n",
    "\n",
    "    ax.plot(-width / 2 + link1 * cos(theta1) + np.array([0, link2 * cos(alpha1)]), \\\n",
    "            link1 * sin(theta1) + np.array([0, link2 * sin(alpha1)]), 'k');\n",
    "    ax.plot(width / 2 + link1 * cos(theta2) + np.array([0, link2 * cos(alpha2)]), \\\n",
    "            np.array(link1 * sin(theta2) + np.array([0, link2 * sin(alpha2)])), 'k');\n",
    "            \n",
    "    curr_x = float(width / 2 + link1 * cos(theta2) + link2 * cos(alpha2))\n",
    "    curr_y = float(np.array(link1 * sin(theta2) + link2 * sin(alpha2)))\n",
    "\n",
    "    ax.plot(curr_x, curr_y, 'ro');\n",
    "\n",
    "    ax.axis([-cor_range, cor_range, -l1, cor_range])\n",
    "    ax.invert_yaxis()\n",
    "\n",
    "\n",
    "# Draw the legs and trajectory\n",
    "%matplotlib qt5\n",
    "\n",
    "for i in range(tt):\n",
    "    sim_draw_leg(7.7, 7, 14, sim_theta0[i], sim_theta1[i], sim_alpha0[i], sim_alpha1[i])\n",
    "    plt.plot(xx[0:i+1], yy[0:i+1])\n",
    "    plt.pause(.35)"
   ]
  },
  {
   "cell_type": "markdown",
   "metadata": {},
   "source": [
    "![Simulation of Trajectory gif](HW2_fish.gif)"
   ]
  },
  {
   "cell_type": "code",
   "execution_count": 9,
   "metadata": {},
   "outputs": [
    {
     "name": "stdout",
     "output_type": "stream",
     "text": [
      "[-0.282467478334521 + pi/2, -0.363911929983582 + pi/2, -0.463304799970297 + pi/2, -0.544589710246193 + pi/2, -0.677557688414734 + pi/2, -0.660685983330075 + pi/2, -0.610090159255426 + pi/2, -0.829727425680077 + pi/2, -0.97340898238918 + pi/2, -1.03389349965154 + pi/2, -1.00872257886048 + pi/2, -0.985761121221492 + pi/2, -0.905316326817021 + pi/2, -0.790527999843576 + pi/2, -0.730815298692783 + pi/2, -0.776596764079628 + pi/2, -0.638796173500133 + pi/2, -0.517081195695964 + pi/2, -0.458318195186741 + pi/2, -0.355262493266269 + pi/2, -0.182735432995437 + pi/2, -0.142339601475856 + pi/2, -0.172590789692562 + pi/2, -0.199562036653181 + pi/2, -0.25072568815741 + pi/2, -0.282467478334521 + pi/2]\n"
     ]
    }
   ],
   "source": [
    "print(sim_theta0)"
   ]
  },
  {
   "cell_type": "code",
   "execution_count": 10,
   "metadata": {},
   "outputs": [
    {
     "name": "stdout",
     "output_type": "stream",
     "text": [
      "[0.292349067291813 + pi/2, 0.261248374641351 + pi/2, 0.265793251255878 + pi/2, 0.272465488587662 + pi/2, 0.293694463457862 + pi/2, 0.16785292964432 + pi/2, -0.069825114103885 + pi/2, 0.137550304406564 + pi/2, 0.271248706211726 + pi/2, 0.355043779862583 + pi/2, 0.396240134546012 + pi/2, 0.388904929653782 + pi/2, 0.371744427525425 + pi/2, 0.40517725650082 + pi/2, 0.478141614837439 + pi/2, 0.654175486008055 + pi/2, 0.790345596435125 + pi/2, 0.879453560703238 + pi/2, 0.850348875938824 + pi/2, 0.772970885169707 + pi/2, 0.633178230014557 + pi/2, 0.567028355854313 + pi/2, 0.436375300378387 + pi/2, 0.409208304255253 + pi/2, 0.347734257773969 + pi/2, 0.292349067291813 + pi/2]\n"
     ]
    }
   ],
   "source": [
    "print(sim_theta1)"
   ]
  },
  {
   "cell_type": "code",
   "execution_count": null,
   "metadata": {},
   "outputs": [],
   "source": [
    "import math\n",
    "leg.compute_internal_angles(math.pi/2,math.pi/2)"
   ]
  },
  {
   "cell_type": "code",
   "execution_count": 5,
   "metadata": {},
   "outputs": [
    {
     "name": "stdout",
     "output_type": "stream",
     "text": [
      "-0.2566712498664856 0.926893949508667\n"
     ]
    }
   ],
   "source": [
    "m0_home=m0.encoder.pll_pos\n",
    "m1_home=m1.encoder.pll_pos\n",
    "print(m0_home,m1_home)"
   ]
  },
  {
   "cell_type": "code",
   "execution_count": 4,
   "metadata": {},
   "outputs": [],
   "source": [
    "import sympy\n",
    "from sympy import symbols\n",
    "from sympy import sin, cos, asin, acos, pi\n",
    "#m0_home_d=m0_home/(2048*4)*2*pi+pi/2\n",
    "#m1_home_d=m1_home/(2048*4)*2*pi+pi/2\n",
    "#print(m0_home_d,m1_home_d)"
   ]
  },
  {
   "cell_type": "code",
   "execution_count": 5,
   "metadata": {},
   "outputs": [],
   "source": [
    "sim_theta0=[-0.282467478334521 + pi/2, -0.363911929983582 + pi/2, -0.463304799970297 + pi/2, -0.544589710246193 + pi/2, -0.677557688414734 + pi/2, -0.660685983330075 + pi/2, -0.610090159255426 + pi/2, -0.829727425680077 + pi/2, -0.97340898238918 + pi/2, -1.03389349965154 + pi/2, -1.00872257886048 + pi/2, -0.985761121221492 + pi/2, -0.905316326817021 + pi/2, -0.790527999843576 + pi/2, -0.730815298692783 + pi/2, -0.776596764079628 + pi/2, -0.638796173500133 + pi/2, -0.517081195695964 + pi/2, -0.458318195186741 + pi/2, -0.355262493266269 + pi/2, -0.182735432995437 + pi/2, -0.142339601475856 + pi/2, -0.172590789692562 + pi/2, -0.199562036653181 + pi/2, -0.25072568815741 + pi/2, -0.282467478334521 + pi/2]"
   ]
  },
  {
   "cell_type": "code",
   "execution_count": 6,
   "metadata": {},
   "outputs": [],
   "source": [
    "sim_theta1=[0.292349067291813 + pi/2, 0.261248374641351 + pi/2, 0.265793251255878 + pi/2, 0.272465488587662 + pi/2, 0.293694463457862 + pi/2, 0.16785292964432 + pi/2, -0.069825114103885 + pi/2, 0.137550304406564 + pi/2, 0.271248706211726 + pi/2, 0.355043779862583 + pi/2, 0.396240134546012 + pi/2, 0.388904929653782 + pi/2, 0.371744427525425 + pi/2, 0.40517725650082 + pi/2, 0.478141614837439 + pi/2, 0.654175486008055 + pi/2, 0.790345596435125 + pi/2, 0.879453560703238 + pi/2, 0.850348875938824 + pi/2, 0.772970885169707 + pi/2, 0.633178230014557 + pi/2, 0.567028355854313 + pi/2, 0.436375300378387 + pi/2, 0.409208304255253 + pi/2, 0.347734257773969 + pi/2, 0.292349067291813 + pi/2]"
   ]
  },
  {
   "cell_type": "code",
   "execution_count": 9,
   "metadata": {},
   "outputs": [],
   "source": [
    "import time\n",
    "for i in range(26):\n",
    "    leg.set_joint_pos(sim_theta0[i], sim_theta1[i])\n",
    "    time.sleep(.25)"
   ]
  },
  {
   "cell_type": "code",
   "execution_count": 13,
   "metadata": {},
   "outputs": [],
   "source": [
    "leg.move_home()"
   ]
  },
  {
   "cell_type": "code",
   "execution_count": 10,
   "metadata": {},
   "outputs": [],
   "source": [
    "from IPython.lib.display import YouTubeVideo # for youtube videos"
   ]
  },
  {
   "cell_type": "code",
   "execution_count": 11,
   "metadata": {},
   "outputs": [
    {
     "data": {
      "image/jpeg": "[encoded data removed]",
      "text/html": [
       "\n",
       "        <iframe\n",
       "            width=\"400\"\n",
       "            height=\"300\"\n",
       "            src=\"https://www.youtube.com/embed/w6gJsCkPz90\"\n",
       "            frameborder=\"0\"\n",
       "            allowfullscreen\n",
       "        ></iframe>\n",
       "        "
      ],
      "text/plain": [
       "<IPython.lib.display.YouTubeVideo at 0x97315f8>"
      ]
     },
     "execution_count": 11,
     "metadata": {},
     "output_type": "execute_result"
    }
   ],
   "source": [
    "YouTubeVideo('w6gJsCkPz90')"
   ]
  },
  {
   "cell_type": "code",
   "execution_count": null,
   "metadata": {},
   "outputs": [],
   "source": []
  }
 ],
 "metadata": {
  "kernelspec": {
   "display_name": "Python 3",
   "language": "python",
   "name": "python3"
  },
  "language_info": {
   "codemirror_mode": {
    "name": "ipython",
    "version": 3
   },
   "file_extension": ".py",
   "mimetype": "text/x-python",
   "name": "python",
   "nbconvert_exporter": "python",
   "pygments_lexer": "ipython3",
   "version": "3.6.4"
  }
 },
 "nbformat": 4,
 "nbformat_minor": 2
}
